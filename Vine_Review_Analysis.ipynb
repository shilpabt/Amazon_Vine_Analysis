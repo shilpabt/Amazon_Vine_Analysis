{
  "nbformat": 4,
  "nbformat_minor": 0,
  "metadata": {
    "colab": {
      "provenance": []
    },
    "kernelspec": {
      "name": "python3",
      "display_name": "Python 3"
    },
    "language_info": {
      "name": "python"
    }
  },
  "cells": [
    {
      "cell_type": "code",
      "execution_count": 1,
      "metadata": {
        "colab": {
          "base_uri": "https://localhost:8080/"
        },
        "id": "WpnomKyrpGD_",
        "outputId": "f8da0475-ca58-4a1e-dbca-11deaa5ba355"
      },
      "outputs": [
        {
          "output_type": "stream",
          "name": "stdout",
          "text": [
            "\r0% [Working]\r            \rGet:1 https://cloud.r-project.org/bin/linux/ubuntu bionic-cran40/ InRelease [3,626 B]\n",
            "\r0% [Waiting for headers] [Waiting for headers] [1 InRelease 0 B/3,626 B 0%] [Wa\r0% [Waiting for headers] [Waiting for headers] [Waiting for headers] [Connectin\r0% [1 InRelease gpgv 3,626 B] [Waiting for headers] [Waiting for headers] [Wait\r                                                                               \rGet:2 http://security.ubuntu.com/ubuntu bionic-security InRelease [88.7 kB]\n",
            "Hit:3 http://archive.ubuntu.com/ubuntu bionic InRelease\n",
            "Hit:4 http://ppa.launchpad.net/c2d4u.team/c2d4u4.0+/ubuntu bionic InRelease\n",
            "Get:5 http://archive.ubuntu.com/ubuntu bionic-updates InRelease [88.7 kB]\n",
            "Ign:6 https://developer.download.nvidia.com/compute/machine-learning/repos/ubuntu1804/x86_64  InRelease\n",
            "Get:7 https://developer.download.nvidia.com/compute/cuda/repos/ubuntu1804/x86_64  InRelease [1,581 B]\n",
            "Hit:8 https://developer.download.nvidia.com/compute/machine-learning/repos/ubuntu1804/x86_64  Release\n",
            "Hit:9 http://ppa.launchpad.net/cran/libgit2/ubuntu bionic InRelease\n",
            "Hit:10 http://ppa.launchpad.net/deadsnakes/ppa/ubuntu bionic InRelease\n",
            "Get:11 http://archive.ubuntu.com/ubuntu bionic-backports InRelease [83.3 kB]\n",
            "Hit:12 http://ppa.launchpad.net/graphics-drivers/ppa/ubuntu bionic InRelease\n",
            "Get:13 https://developer.download.nvidia.com/compute/cuda/repos/ubuntu1804/x86_64  Packages [1,038 kB]\n",
            "Get:15 http://security.ubuntu.com/ubuntu bionic-security/main amd64 Packages [3,068 kB]\n",
            "Get:16 http://security.ubuntu.com/ubuntu bionic-security/universe amd64 Packages [1,563 kB]\n",
            "Get:17 http://archive.ubuntu.com/ubuntu bionic-updates/main amd64 Packages [3,496 kB]\n",
            "Get:18 http://archive.ubuntu.com/ubuntu bionic-updates/universe amd64 Packages [2,338 kB]\n",
            "Get:19 http://archive.ubuntu.com/ubuntu bionic-updates/restricted amd64 Packages [1,303 kB]\n",
            "Fetched 13.1 MB in 8s (1,656 kB/s)\n",
            "Reading package lists... Done\n"
          ]
        }
      ],
      "source": [
        "import os\n",
        "# Find the latest version of spark 3.0 from http://www.apache.org/dist/spark/ and enter as the spark version\n",
        "# For example:\n",
        "# spark_version = 'spark-3.0.3'\n",
        "spark_version = 'spark-3.1.3'\n",
        "os.environ['SPARK_VERSION']=spark_version\n",
        "\n",
        "# Install Spark and Java\n",
        "!apt-get update\n",
        "!apt-get install openjdk-11-jdk-headless -qq > /dev/null\n",
        "!wget -q http://www.apache.org/dist/spark/$SPARK_VERSION/$SPARK_VERSION-bin-hadoop2.7.tgz\n",
        "!tar xf $SPARK_VERSION-bin-hadoop2.7.tgz\n",
        "!pip install -q findspark\n",
        "\n",
        "# Set Environment Variables\n",
        "import os\n",
        "os.environ[\"JAVA_HOME\"] = \"/usr/lib/jvm/java-11-openjdk-amd64\"\n",
        "os.environ[\"SPARK_HOME\"] = f\"/content/{spark_version}-bin-hadoop2.7\"\n",
        "\n",
        "# Start a SparkSession\n",
        "import findspark\n",
        "findspark.init()"
      ]
    },
    {
      "cell_type": "code",
      "source": [
        "# Download the Postgres driver that will allow Spark to interact with Postgres.\n",
        "!wget https://jdbc.postgresql.org/download/postgresql-42.2.16.jar"
      ],
      "metadata": {
        "colab": {
          "base_uri": "https://localhost:8080/"
        },
        "id": "CSF68bbvqEOH",
        "outputId": "bd342248-7a40-45cc-debd-34981c0d8077"
      },
      "execution_count": 2,
      "outputs": [
        {
          "output_type": "stream",
          "name": "stdout",
          "text": [
            "--2022-11-28 00:36:16--  https://jdbc.postgresql.org/download/postgresql-42.2.16.jar\n",
            "Resolving jdbc.postgresql.org (jdbc.postgresql.org)... 72.32.157.228, 2001:4800:3e1:1::228\n",
            "Connecting to jdbc.postgresql.org (jdbc.postgresql.org)|72.32.157.228|:443... connected.\n",
            "HTTP request sent, awaiting response... 200 OK\n",
            "Length: 1002883 (979K) [application/java-archive]\n",
            "Saving to: ‘postgresql-42.2.16.jar’\n",
            "\n",
            "postgresql-42.2.16. 100%[===================>] 979.38K  6.22MB/s    in 0.2s    \n",
            "\n",
            "2022-11-28 00:36:16 (6.22 MB/s) - ‘postgresql-42.2.16.jar’ saved [1002883/1002883]\n",
            "\n"
          ]
        }
      ]
    },
    {
      "cell_type": "code",
      "source": [
        "from pyspark.sql import SparkSession\n",
        "spark = SparkSession.builder.appName(\"M16-Amazon-Challenge\").config(\"spark.driver.extraClassPath\",\"/content/postgresql-42.2.16.jar\").getOrCreate()"
      ],
      "metadata": {
        "id": "lpaLXKrGqfMM"
      },
      "execution_count": 3,
      "outputs": []
    },
    {
      "cell_type": "code",
      "source": [
        "from pyspark import SparkFiles\n",
        "url = \"https://s3.amazonaws.com/amazon-reviews-pds/tsv/amazon_reviews_us_Office_Products_v1_00.tsv.gz\"\n",
        "\n",
        "spark.sparkContext.addFile(url)\n",
        "df = spark.read.option(\"encoding\", \"UTF-8\").csv(SparkFiles.get(\"\"), sep=\"\\t\", header=True, inferSchema=True)\n",
        "df.show()"
      ],
      "metadata": {
        "colab": {
          "base_uri": "https://localhost:8080/"
        },
        "id": "SsJ9DyxBqkTc",
        "outputId": "2452dcaa-7c4d-416e-ac5c-55d607d63cc6"
      },
      "execution_count": 4,
      "outputs": [
        {
          "output_type": "stream",
          "name": "stdout",
          "text": [
            "+-----------+-----------+--------------+----------+--------------+--------------------+----------------+-----------+-------------+-----------+----+-----------------+--------------------+--------------------+-----------+\n",
            "|marketplace|customer_id|     review_id|product_id|product_parent|       product_title|product_category|star_rating|helpful_votes|total_votes|vine|verified_purchase|     review_headline|         review_body|review_date|\n",
            "+-----------+-----------+--------------+----------+--------------+--------------------+----------------+-----------+-------------+-----------+----+-----------------+--------------------+--------------------+-----------+\n",
            "|         US|   43081963|R18RVCKGH1SSI9|B001BM2MAC|     307809868|Scotch Cushion Wr...| Office Products|          5|            0|          0|   N|                Y|          Five Stars|      Great product.| 2015-08-31|\n",
            "|         US|   10951564|R3L4L6LW1PUOFY|B00DZYEXPQ|      75004341|Dust-Off Compress...| Office Products|          5|            0|          1|   N|                Y|Phffffffft, Phfff...|What's to say abo...| 2015-08-31|\n",
            "|         US|   21143145|R2J8AWXWTDX2TF|B00RTMUHDW|     529689027|Amram Tagger Stan...| Office Products|          5|            0|          0|   N|                Y|but I am sure I w...|Haven't used yet,...| 2015-08-31|\n",
            "|         US|   52782374|R1PR37BR7G3M6A|B00D7H8XB6|     868449945|AmazonBasics 12-S...| Office Products|          1|            2|          3|   N|                Y|and the shredder ...|Although this was...| 2015-08-31|\n",
            "|         US|   24045652|R3BDDDZMZBZDPU|B001XCWP34|      33521401|Derwent Colored P...| Office Products|          4|            0|          0|   N|                Y|          Four Stars|Gorgeous colors a...| 2015-08-31|\n",
            "|         US|   21751234| R8T6MO75ND212|B004J2NBCO|     214932869|Quartet Magnetic ...| Office Products|          5|            0|          0|   N|                Y|          Five Stars|Perfect for plann...| 2015-08-31|\n",
            "|         US|    9109358|R2YWMQT2V11XYZ|B00MOPAG8K|     863351797|KITLEX40X2592UNV2...| Office Products|          5|            0|          0|   N|                N|          Five Stars|Gold plated fuser...| 2015-08-31|\n",
            "|         US|    9967215|R1V2HYL6OI9V39|B003AHIK7U|     383470576|Bible Dry Highlig...| Office Products|          5|            6|          6|   N|                Y|Won't bleed throu...|I have used these...| 2015-08-31|\n",
            "|         US|   11234247|R3BLQBKUNXGFS4|B006TKH2RO|     999128878|Parker Ingenuity ...| Office Products|          5|            0|          0|   N|                Y|           Nice pen!|Heavy pen that wr...| 2015-08-31|\n",
            "|         US|   12731488|R17MOWJCAR9Y8Q|B00W61M9K0|     622066861| RFID Card Protector| Office Products|          5|            0|          0|   N|                Y| Credit card sleeves|Not sure if they ...| 2015-08-31|\n",
            "|         US|   49861762|R11EPG1GHOXMGB|B00BXOGI3A|     688569009|The Original Stan...| Office Products|          4|            0|          0|   N|                N|          Four Stars|Great product for...| 2015-08-31|\n",
            "|         US|    1541556|R2797NKTEX5THN|B0018RHWGE|     513803406|Zebra Sparky-1 WK...| Office Products|          5|            0|          0|   N|                Y|Love these highli...|Love these highli...| 2015-08-31|\n",
            "|         US|   10579374|R2RUTMJS50E4WF|B00IA8H2OG|     201212366|E-Z Ink (TM) Comp...| Office Products|          5|            0|          0|   N|                Y|          Five Stars|Received on time,...| 2015-08-31|\n",
            "|         US|   43622307|R1FZYL1HX7O4RM|B007TOIA66|     954138793|Eric 11\" Giant Si...| Office Products|          1|            0|          0|   N|                Y|            One Star|worked about a mo...| 2015-08-31|\n",
            "|         US|   50773856|R22ENT0KU5CHPX|B00EANURCE|      43216076|Brother MFCJ450 W...| Office Products|          5|            0|          0|   N|                Y|Brothers Wireless...|I purchased this ...| 2015-08-31|\n",
            "|         US|   10165223|R2E5M7FWJC9JLE|B00T3Q0EOO|     637096152|Clarity D613 DECT...| Office Products|          5|            0|          0|   N|                Y|          Five Stars|Everything works ...| 2015-08-31|\n",
            "|         US|   14744748|R31BNW3O2Q5J3E|B00WN0N818|     710040412|Permo 50 Feet Whi...| Office Products|          5|            0|          0|   N|                Y|          Five Stars|          Thank you!| 2015-08-31|\n",
            "|         US|   37536631|R1JMQF1OOMNF49|B001GAOTSW|     696023182|Pilot G2 Retracta...| Office Products|          5|            0|          0|   N|                Y|          Five Stars|     Love these pens| 2015-08-31|\n",
            "|         US|     126687| RJH6WQDOA6CZP|B003BNY7PW|     474277918|AT&T DECT 6.0 Acc...| Office Products|          5|            0|          0|   N|                Y|          Five Stars|The product is ev...| 2015-08-31|\n",
            "|         US|   31130095|R2EVL0Z5JVV86X|B00092RJX0|     887474295|Pilot G2 Retracta...| Office Products|          5|            0|          0|   N|                Y|          Five Stars|           Great buy| 2015-08-31|\n",
            "+-----------+-----------+--------------+----------+--------------+--------------------+----------------+-----------+-------------+-----------+----+-----------------+--------------------+--------------------+-----------+\n",
            "only showing top 20 rows\n",
            "\n"
          ]
        }
      ]
    },
    {
      "cell_type": "code",
      "source": [
        "from pyspark.sql.functions import to_date"
      ],
      "metadata": {
        "id": "pjpLowXjuQUz"
      },
      "execution_count": 5,
      "outputs": []
    },
    {
      "cell_type": "code",
      "source": [
        "# Create the vine_table. DataFrame\n",
        "vine_table_df = df.select([\"review_id\", \"star_rating\", \"helpful_votes\", \"total_votes\", \"vine\", \"verified_purchase\"])\n",
        "vine_table_df.show()"
      ],
      "metadata": {
        "colab": {
          "base_uri": "https://localhost:8080/"
        },
        "id": "zpA8H0KVvnGI",
        "outputId": "6df4a55d-6674-4a22-a415-e75ebf7492d1"
      },
      "execution_count": 7,
      "outputs": [
        {
          "output_type": "stream",
          "name": "stdout",
          "text": [
            "+--------------+-----------+-------------+-----------+----+-----------------+\n",
            "|     review_id|star_rating|helpful_votes|total_votes|vine|verified_purchase|\n",
            "+--------------+-----------+-------------+-----------+----+-----------------+\n",
            "|R18RVCKGH1SSI9|          5|            0|          0|   N|                Y|\n",
            "|R3L4L6LW1PUOFY|          5|            0|          1|   N|                Y|\n",
            "|R2J8AWXWTDX2TF|          5|            0|          0|   N|                Y|\n",
            "|R1PR37BR7G3M6A|          1|            2|          3|   N|                Y|\n",
            "|R3BDDDZMZBZDPU|          4|            0|          0|   N|                Y|\n",
            "| R8T6MO75ND212|          5|            0|          0|   N|                Y|\n",
            "|R2YWMQT2V11XYZ|          5|            0|          0|   N|                N|\n",
            "|R1V2HYL6OI9V39|          5|            6|          6|   N|                Y|\n",
            "|R3BLQBKUNXGFS4|          5|            0|          0|   N|                Y|\n",
            "|R17MOWJCAR9Y8Q|          5|            0|          0|   N|                Y|\n",
            "|R11EPG1GHOXMGB|          4|            0|          0|   N|                N|\n",
            "|R2797NKTEX5THN|          5|            0|          0|   N|                Y|\n",
            "|R2RUTMJS50E4WF|          5|            0|          0|   N|                Y|\n",
            "|R1FZYL1HX7O4RM|          1|            0|          0|   N|                Y|\n",
            "|R22ENT0KU5CHPX|          5|            0|          0|   N|                Y|\n",
            "|R2E5M7FWJC9JLE|          5|            0|          0|   N|                Y|\n",
            "|R31BNW3O2Q5J3E|          5|            0|          0|   N|                Y|\n",
            "|R1JMQF1OOMNF49|          5|            0|          0|   N|                Y|\n",
            "| RJH6WQDOA6CZP|          5|            0|          0|   N|                Y|\n",
            "|R2EVL0Z5JVV86X|          5|            0|          0|   N|                Y|\n",
            "+--------------+-----------+-------------+-----------+----+-----------------+\n",
            "only showing top 20 rows\n",
            "\n"
          ]
        }
      ]
    },
    {
      "cell_type": "code",
      "source": [
        "#create a new DataFrame or table to retrieve all the rows where the total_votes count is equal to or greater than 20 to pick reviews that are more likely to be helpful and to avoid having division by zero errors later on.\n",
        "total_votes_df = vine_table_df.filter(vine_table_df.total_votes >=20)\n",
        "total_votes_df.show()"
      ],
      "metadata": {
        "colab": {
          "base_uri": "https://localhost:8080/"
        },
        "id": "5PXDLOBi1Bs5",
        "outputId": "bed4c610-d9b2-4159-e223-96b04998acf8"
      },
      "execution_count": 8,
      "outputs": [
        {
          "output_type": "stream",
          "name": "stdout",
          "text": [
            "+--------------+-----------+-------------+-----------+----+-----------------+\n",
            "|     review_id|star_rating|helpful_votes|total_votes|vine|verified_purchase|\n",
            "+--------------+-----------+-------------+-----------+----+-----------------+\n",
            "|R243UXMMSSZVS6|          2|          254|        254|   N|                Y|\n",
            "|R2P92EHR0S5GBB|          1|          110|        159|   N|                Y|\n",
            "| RN93Z4XPNAANY|          5|           31|         31|   N|                Y|\n",
            "|R1O74T9XO3OPQ4|          5|           38|         38|   N|                Y|\n",
            "|R3DMIHE5BMUT0R|          3|           21|         21|   N|                Y|\n",
            "|R1QWY17NLHQSB5|          5|           36|         36|   N|                Y|\n",
            "|R3LANI678T2YQS|          5|           39|         47|   N|                N|\n",
            "| RLV4XQ49EBYYU|          1|           56|         65|   N|                Y|\n",
            "| RPBPAJKFD0T26|          5|           63|         63|   N|                Y|\n",
            "|R1IHO8C56KBN6C|          1|           61|         64|   N|                Y|\n",
            "|R3HZT0MTHYQBU7|          1|          221|        221|   N|                Y|\n",
            "|R2ETWIKUXWV2FA|          1|           15|         32|   N|                Y|\n",
            "|R1M9644S4471JU|          5|           20|         20|   N|                Y|\n",
            "| R6FPJVAWQ472P|          5|           33|         34|   N|                Y|\n",
            "| RYQ3KOWJLYPWW|          4|           19|         20|   N|                Y|\n",
            "|R2J6UYRU7AX8NS|          5|           23|         24|   N|                Y|\n",
            "|R32Y1KGXWPHEVP|          5|           44|         44|   N|                N|\n",
            "|R3M14RO30UBS32|          2|           22|         30|   N|                Y|\n",
            "|R1FJ1LLYMAIINJ|          2|           27|         28|   N|                Y|\n",
            "| RB32OZDWJ1MXB|          1|          161|        170|   N|                Y|\n",
            "+--------------+-----------+-------------+-----------+----+-----------------+\n",
            "only showing top 20 rows\n",
            "\n"
          ]
        }
      ]
    },
    {
      "cell_type": "code",
      "source": [
        "#Filter the new DataFrame or table created in Step 1 and create a new DataFrame or table\n",
        "# to retrieve all the rows where the number of helpful_votes divided by total_votes is equal to or greater than 50%.\n",
        "helpful_votes_df = total_votes_df.filter((total_votes_df.helpful_votes/total_votes_df.total_votes) >= 0.5)\n",
        "helpful_votes_df.show()"
      ],
      "metadata": {
        "colab": {
          "base_uri": "https://localhost:8080/"
        },
        "id": "djoD4P_V4ZcF",
        "outputId": "307bfc03-ca8f-4d81-ebb6-fad0bfd4d132"
      },
      "execution_count": 10,
      "outputs": [
        {
          "output_type": "stream",
          "name": "stdout",
          "text": [
            "+--------------+-----------+-------------+-----------+----+-----------------+\n",
            "|     review_id|star_rating|helpful_votes|total_votes|vine|verified_purchase|\n",
            "+--------------+-----------+-------------+-----------+----+-----------------+\n",
            "|R243UXMMSSZVS6|          2|          254|        254|   N|                Y|\n",
            "|R2P92EHR0S5GBB|          1|          110|        159|   N|                Y|\n",
            "| RN93Z4XPNAANY|          5|           31|         31|   N|                Y|\n",
            "|R1O74T9XO3OPQ4|          5|           38|         38|   N|                Y|\n",
            "|R3DMIHE5BMUT0R|          3|           21|         21|   N|                Y|\n",
            "|R1QWY17NLHQSB5|          5|           36|         36|   N|                Y|\n",
            "|R3LANI678T2YQS|          5|           39|         47|   N|                N|\n",
            "| RLV4XQ49EBYYU|          1|           56|         65|   N|                Y|\n",
            "| RPBPAJKFD0T26|          5|           63|         63|   N|                Y|\n",
            "|R1IHO8C56KBN6C|          1|           61|         64|   N|                Y|\n",
            "|R3HZT0MTHYQBU7|          1|          221|        221|   N|                Y|\n",
            "|R1M9644S4471JU|          5|           20|         20|   N|                Y|\n",
            "| R6FPJVAWQ472P|          5|           33|         34|   N|                Y|\n",
            "| RYQ3KOWJLYPWW|          4|           19|         20|   N|                Y|\n",
            "|R2J6UYRU7AX8NS|          5|           23|         24|   N|                Y|\n",
            "|R32Y1KGXWPHEVP|          5|           44|         44|   N|                N|\n",
            "|R3M14RO30UBS32|          2|           22|         30|   N|                Y|\n",
            "|R1FJ1LLYMAIINJ|          2|           27|         28|   N|                Y|\n",
            "| RB32OZDWJ1MXB|          1|          161|        170|   N|                Y|\n",
            "|R1O5FVFCO6MEWX|          1|           41|         42|   N|                Y|\n",
            "+--------------+-----------+-------------+-----------+----+-----------------+\n",
            "only showing top 20 rows\n",
            "\n"
          ]
        }
      ]
    },
    {
      "cell_type": "code",
      "source": [
        "#Filter the DataFrame or table created in Step 2, and create a new DataFrame or table\n",
        "# that retrieves all the rows where a review was written as part of the Vine program (paid), vine == 'Y'.\n",
        "paid_reviews_df = helpful_votes_df.filter(\"vine == 'Y'\")\n",
        "paid_reviews_df.show()"
      ],
      "metadata": {
        "colab": {
          "base_uri": "https://localhost:8080/"
        },
        "id": "X2JrgK6s680r",
        "outputId": "7643bbeb-a65f-4f03-cc28-d57380a47dfc"
      },
      "execution_count": 11,
      "outputs": [
        {
          "output_type": "stream",
          "name": "stdout",
          "text": [
            "+--------------+-----------+-------------+-----------+----+-----------------+\n",
            "|     review_id|star_rating|helpful_votes|total_votes|vine|verified_purchase|\n",
            "+--------------+-----------+-------------+-----------+----+-----------------+\n",
            "|R3JIGR122X50ZV|          5|         2280|       2314|   Y|                N|\n",
            "|R3KV8P8WLD2KKC|          5|          263|        286|   Y|                N|\n",
            "|R2LFY2ZPJ3J7RH|          4|           36|         38|   Y|                N|\n",
            "|R3P01OXMA0U0CA|          5|          114|        117|   Y|                N|\n",
            "|R2SCMXBD9OQP8Z|          2|           22|         26|   Y|                N|\n",
            "|R2FGS9ECOK5IQN|          5|           22|         23|   Y|                N|\n",
            "| R1V9CO41XS6QY|          2|           56|         58|   Y|                N|\n",
            "|R1LEP1JGXRY2YT|          2|           18|         20|   Y|                N|\n",
            "|R1ZWQJ3ZBSIZ1K|          4|           19|         21|   Y|                Y|\n",
            "| RX1G4FUE5HZGN|          3|           52|         58|   Y|                N|\n",
            "|R2V4NC4FH8IF1Y|          3|           58|         63|   Y|                N|\n",
            "|R1F1PGV3MEL818|          5|          142|        148|   Y|                N|\n",
            "| RFLM1DZ2O0ZE3|          4|           39|         39|   Y|                N|\n",
            "|R2BYBP0R21WYYC|          5|           30|         33|   Y|                N|\n",
            "|R28T0ZQLIYREBI|          5|           45|         47|   Y|                N|\n",
            "|R1EEZAMB8BAB4I|          5|           45|         49|   Y|                N|\n",
            "|R1MT9QOVCW2NSC|          5|           21|         24|   Y|                N|\n",
            "| R3W9PAL4OVHKD|          5|           35|         41|   Y|                N|\n",
            "| R1NMLNZD7JKLY|          5|           40|         44|   Y|                N|\n",
            "| RZ2TREG2ME3K7|          5|           26|         28|   Y|                N|\n",
            "+--------------+-----------+-------------+-----------+----+-----------------+\n",
            "only showing top 20 rows\n",
            "\n"
          ]
        }
      ]
    },
    {
      "cell_type": "code",
      "source": [
        "#retrieve all the rows where the review was not part of the Vine program (unpaid), vine == 'N'.\n",
        "unpaid_reviews_df = helpful_votes_df.filter(\"vine == 'N'\")\n",
        "unpaid_reviews_df.show()"
      ],
      "metadata": {
        "colab": {
          "base_uri": "https://localhost:8080/"
        },
        "id": "3o38LFcL9vO9",
        "outputId": "df948815-0818-49ca-b166-5512841db6b2"
      },
      "execution_count": 12,
      "outputs": [
        {
          "output_type": "stream",
          "name": "stdout",
          "text": [
            "+--------------+-----------+-------------+-----------+----+-----------------+\n",
            "|     review_id|star_rating|helpful_votes|total_votes|vine|verified_purchase|\n",
            "+--------------+-----------+-------------+-----------+----+-----------------+\n",
            "|R243UXMMSSZVS6|          2|          254|        254|   N|                Y|\n",
            "|R2P92EHR0S5GBB|          1|          110|        159|   N|                Y|\n",
            "| RN93Z4XPNAANY|          5|           31|         31|   N|                Y|\n",
            "|R1O74T9XO3OPQ4|          5|           38|         38|   N|                Y|\n",
            "|R3DMIHE5BMUT0R|          3|           21|         21|   N|                Y|\n",
            "|R1QWY17NLHQSB5|          5|           36|         36|   N|                Y|\n",
            "|R3LANI678T2YQS|          5|           39|         47|   N|                N|\n",
            "| RLV4XQ49EBYYU|          1|           56|         65|   N|                Y|\n",
            "| RPBPAJKFD0T26|          5|           63|         63|   N|                Y|\n",
            "|R1IHO8C56KBN6C|          1|           61|         64|   N|                Y|\n",
            "|R3HZT0MTHYQBU7|          1|          221|        221|   N|                Y|\n",
            "|R1M9644S4471JU|          5|           20|         20|   N|                Y|\n",
            "| R6FPJVAWQ472P|          5|           33|         34|   N|                Y|\n",
            "| RYQ3KOWJLYPWW|          4|           19|         20|   N|                Y|\n",
            "|R2J6UYRU7AX8NS|          5|           23|         24|   N|                Y|\n",
            "|R32Y1KGXWPHEVP|          5|           44|         44|   N|                N|\n",
            "|R3M14RO30UBS32|          2|           22|         30|   N|                Y|\n",
            "|R1FJ1LLYMAIINJ|          2|           27|         28|   N|                Y|\n",
            "| RB32OZDWJ1MXB|          1|          161|        170|   N|                Y|\n",
            "|R1O5FVFCO6MEWX|          1|           41|         42|   N|                Y|\n",
            "+--------------+-----------+-------------+-----------+----+-----------------+\n",
            "only showing top 20 rows\n",
            "\n"
          ]
        }
      ]
    },
    {
      "cell_type": "code",
      "source": [
        "#Determine the total number of reviews, the number of 5-star reviews, and the percentage of 5-star reviews for the two types of review (paid vs unpaid).\n",
        "#unpaid total number of reviews\n",
        "unpaid_reviews_count = unpaid_reviews_df.count()\n",
        "unpaid_reviews_count"
      ],
      "metadata": {
        "colab": {
          "base_uri": "https://localhost:8080/"
        },
        "id": "Ay2twoVy_WUA",
        "outputId": "222ea504-5541-427b-cf6c-41e12e20360d"
      },
      "execution_count": 13,
      "outputs": [
        {
          "output_type": "execute_result",
          "data": {
            "text/plain": [
              "43745"
            ]
          },
          "metadata": {},
          "execution_count": 13
        }
      ]
    },
    {
      "cell_type": "code",
      "source": [
        "#Paid total number of reviews\n",
        "paid_reviews_count = paid_reviews_df.count() \n",
        "paid_reviews_count"
      ],
      "metadata": {
        "colab": {
          "base_uri": "https://localhost:8080/"
        },
        "id": "4ewZqtKnADcp",
        "outputId": "e17a2446-b67f-465a-d787-f81ca2a8c6bf"
      },
      "execution_count": 16,
      "outputs": [
        {
          "output_type": "execute_result",
          "data": {
            "text/plain": [
              "969"
            ]
          },
          "metadata": {},
          "execution_count": 16
        }
      ]
    },
    {
      "cell_type": "code",
      "source": [
        "#paid five star reviews\n",
        "paid_five_star_reviews = paid_reviews_df.filter(paid_reviews_df.star_rating==5).count()\n",
        "paid_five_star_reviews"
      ],
      "metadata": {
        "colab": {
          "base_uri": "https://localhost:8080/"
        },
        "id": "ZEIQYcQ-BSdK",
        "outputId": "56bb34b3-f0f9-41e1-dd7e-b107f4f25863"
      },
      "execution_count": 15,
      "outputs": [
        {
          "output_type": "execute_result",
          "data": {
            "text/plain": [
              "430"
            ]
          },
          "metadata": {},
          "execution_count": 15
        }
      ]
    },
    {
      "cell_type": "code",
      "source": [
        "#unpaid five star reviews\n",
        "unpaid_five_star_reviews = unpaid_reviews_df.filter(unpaid_reviews_df.star_rating==5).count()\n",
        "unpaid_five_star_reviews"
      ],
      "metadata": {
        "colab": {
          "base_uri": "https://localhost:8080/"
        },
        "id": "DSAelhgYBlPV",
        "outputId": "1cca6f12-f6f8-48ed-94d8-256700bb51eb"
      },
      "execution_count": 17,
      "outputs": [
        {
          "output_type": "execute_result",
          "data": {
            "text/plain": [
              "19233"
            ]
          },
          "metadata": {},
          "execution_count": 17
        }
      ]
    },
    {
      "cell_type": "code",
      "source": [
        "#the percentage of 5-star paid reviews\n",
        "paid_five_star_percentage = (paid_five_star_reviews/paid_reviews_count) * 100\n",
        "paid_five_star_percentage"
      ],
      "metadata": {
        "colab": {
          "base_uri": "https://localhost:8080/"
        },
        "id": "hZ3gsTuZCe3Z",
        "outputId": "d015caba-ce2c-406f-9474-488695e9c3a9"
      },
      "execution_count": 18,
      "outputs": [
        {
          "output_type": "execute_result",
          "data": {
            "text/plain": [
              "44.375644994840044"
            ]
          },
          "metadata": {},
          "execution_count": 18
        }
      ]
    },
    {
      "cell_type": "code",
      "source": [
        "#the percentage of 5-star paid reviews\n",
        "unpaid_five_star_percentage = (unpaid_five_star_reviews/unpaid_reviews_count) * 100\n",
        "unpaid_five_star_percentage"
      ],
      "metadata": {
        "colab": {
          "base_uri": "https://localhost:8080/"
        },
        "id": "MBKT9-dMCuNQ",
        "outputId": "44094b5f-fe1e-4a0a-b8f9-7982b2f4b454"
      },
      "execution_count": 19,
      "outputs": [
        {
          "output_type": "execute_result",
          "data": {
            "text/plain": [
              "43.96616756200709"
            ]
          },
          "metadata": {},
          "execution_count": 19
        }
      ]
    }
  ]
}